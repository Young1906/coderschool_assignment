{
 "cells": [
  {
   "cell_type": "markdown",
   "metadata": {},
   "source": [
    "# Lesson 1 - Problem Set\n",
    "\n",
    "Please solve the questions in this notebook and submit the completed notebook. The timestamp of submission will be considered the timestamp of completion.\n",
    "\n",
    "1. Create a 3x3x3 array with random values. $_{5\\text{pts}}$\n",
    "\n",
    "1. Create a 4x4 matrix with row values ranging from 0 to 3. $_{5\\text{pts}}$\n",
    "\n",
    "1. Create a random numpy array with 25 elements in sorted order (from least to greatest). $_{5\\text{pts}}$\n",
    "\n",
    "1. Write a function which takes a numpy array `arr` and a scalar `n` and returns the closest value in the array to the provided scalar `n`. $_{10\\text{pts}}$.\n",
    "\n",
    "    **Hint**: Consider the [argmin](https://docs.scipy.org/doc/numpy/reference/generated/numpy.argmin.html) function provided by numpy\n",
    "    \n",
    "1. In the first lesson, we saw the use of the [matplotlib](https://matplotlib.org/) library to generate graphical representations of our data. Using this library, we are going to plot a normal distribution. $_{10\\text{pts}}$.\n",
    "    1. Using the terms mean, variance, and standard deviation, describe a uniform distribution? $_{2\\text{pts}}$.\n",
    "    1. Using the terms mean, variance, and standard deviation, describe a normal distribution? $_{2\\text{pts}}$.\n",
    "    1. Using the [normal](https://docs.scipy.org/doc/numpy-1.14.0/reference/generated/numpy.random.normal.html) function, generate a numpy array of normally distributed numbers. $_{2\\text{pts}}$. (*Hint: Generate the distribution by leveraging your knowledge of mean, variance, and standard deviation.*)\n",
    "    1. What is a histogram? $_{2\\text{pts}}$.\n",
    "    1. Plot a histogram of the normally distributed data that you generated above. $_{2\\text{pts}}$.\n",
    "\n",
    "1. Using a histogram, plot normally sampled data in order to answer the following questions. $_{5\\text{pts}}$.\n",
    "    1. What happens when you change the mean? $_{2.5\\text{pts}}$.\n",
    "    1. What happens when you change the standard deviation? $_{2.5\\text{pts}}$."
   ]
  },
  {
   "cell_type": "code",
   "execution_count": null,
   "metadata": {
    "collapsed": true
   },
   "outputs": [],
   "source": [
    "import numpy as np\n",
    "import matplotlib.pyplot as plt"
   ]
  },
  {
   "cell_type": "markdown",
   "metadata": {},
   "source": [
    "**1. Create 3x3x3 array with random values**"
   ]
  },
  {
   "cell_type": "code",
   "execution_count": 14,
   "metadata": {},
   "outputs": [
    {
     "name": "stdout",
     "output_type": "stream",
     "text": [
      "[[[0.64405013 0.73658342 0.56942313]\n",
      "  [0.52079488 0.15247232 0.979197  ]\n",
      "  [0.79003157 0.93154643 0.22352131]]\n",
      "\n",
      " [[0.53078941 0.71256939 0.41084115]\n",
      "  [0.54261109 0.75252192 0.17895524]\n",
      "  [0.1504973  0.14278913 0.94375918]]\n",
      "\n",
      " [[0.08826516 0.39311234 0.69403005]\n",
      "  [0.40661476 0.4283647  0.31565775]\n",
      "  [0.52518673 0.48784671 0.3189211 ]]]\n"
     ]
    }
   ],
   "source": [
    "arr1 = np.random.rand(3,3,3)\n",
    "\n",
    "print(arr1)"
   ]
  },
  {
   "cell_type": "markdown",
   "metadata": {},
   "source": [
    "**2.Create a 4x4 matrix with row values ranging from 0 to 3**"
   ]
  },
  {
   "cell_type": "code",
   "execution_count": 17,
   "metadata": {},
   "outputs": [
    {
     "name": "stdout",
     "output_type": "stream",
     "text": [
      "[[3 2 2 2]\n",
      " [0 2 1 1]\n",
      " [1 3 1 2]\n",
      " [2 2 0 3]]\n"
     ]
    }
   ],
   "source": [
    "arr2 = np.random.randint(4,size=(4,4))\n",
    "print(arr2)"
   ]
  },
  {
   "cell_type": "markdown",
   "metadata": {},
   "source": [
    "**3.Create a random numpy array with 25 elements in sorted order (from least to greatest).**"
   ]
  },
  {
   "cell_type": "code",
   "execution_count": 26,
   "metadata": {},
   "outputs": [
    {
     "name": "stdout",
     "output_type": "stream",
     "text": [
      "[0.01560281 0.08188269 0.21608602 0.23075353 0.270078   0.28960664\n",
      " 0.33521673 0.35276604 0.42053676 0.44495604 0.44683447 0.49102063\n",
      " 0.50025956 0.55724345 0.57558494 0.62372776 0.62865199 0.62941475\n",
      " 0.64527398 0.67351717 0.70021684 0.78327291 0.83102427 0.9350382\n",
      " 0.96075504]\n"
     ]
    }
   ],
   "source": [
    "arr3 = np.sort(np.random.rand(25))\n",
    "print(arr3)"
   ]
  },
  {
   "cell_type": "markdown",
   "metadata": {},
   "source": [
    "**4.Write a function which takes a numpy array arr and a scalar n and returns the closest value in the array to the provided scalar**"
   ]
  },
  {
   "cell_type": "code",
   "execution_count": 47,
   "metadata": {},
   "outputs": [
    {
     "name": "stdout",
     "output_type": "stream",
     "text": [
      "7\n"
     ]
    }
   ],
   "source": [
    "def f(arr,n):\n",
    "    return arr[np.argmin(np.absolute(arr - n))]\n",
    "\n",
    "print(f(np.random.randint(99,size=10),10))"
   ]
  },
  {
   "cell_type": "markdown",
   "metadata": {},
   "source": [
    "**5. In the first lesson, we saw the use of the matplotlib library to generate graphical representations of our data. Using this library, we are going to plot a normal distribution.**"
   ]
  },
  {
   "cell_type": "markdown",
   "metadata": {},
   "source": [
    "A. Using the terms mean, variance, and standard deviation, describe a uniform distribution?\n",
    "\n",
    "An uniform distribution from with minimum and maximum value parameter a & b :\n",
    "\n",
    "mean = .5(a+b)\n",
    "\n",
    "var = 1/12 * (b-a)**2\n",
    "\n",
    "std = sqrt(var)"
   ]
  },
  {
   "cell_type": "markdown",
   "metadata": {},
   "source": [
    "B. Using the terms mean, variance, and standard deviation, describe a normal distribution?\n",
    "\n",
    "\n",
    "\n",
    "C. Using the normal function, generate a numpy array of normally distributed numbers."
   ]
  },
  {
   "cell_type": "code",
   "execution_count": 11,
   "metadata": {
    "collapsed": true
   },
   "outputs": [],
   "source": [
    "sample = 100000\n",
    "arr4 = np.random.normal(0,.1,sample)"
   ]
  },
  {
   "cell_type": "markdown",
   "metadata": {},
   "source": [
    "D. What is a histogram?\n",
    "\n",
    "Histogram is a visualization describe distribution of a variable, showing frequence/desitity of variable at each value interval. \n",
    "\n",
    "E. Plot a histogram of the normally distributed data that you generated above."
   ]
  },
  {
   "cell_type": "code",
   "execution_count": 12,
   "metadata": {},
   "outputs": [
    {
     "data": {
      "image/png": "[encoded data removed]",
      "text/plain": [
       "<matplotlib.figure.Figure at 0x10ee78b00>"
      ]
     },
     "metadata": {},
     "output_type": "display_data"
    }
   ],
   "source": [
    "plt.hist(arr4,density=True)\n",
    "plt.show()"
   ]
  },
  {
   "cell_type": "markdown",
   "metadata": {},
   "source": [
    "**6. Using a histogram, plot normally sampled data in order to answer the following questions.**\n",
    "\n",
    "A. What happens when you change the mean?\n",
    "The whole distribution shifted with the mean"
   ]
  },
  {
   "cell_type": "code",
   "execution_count": 31,
   "metadata": {},
   "outputs": [
    {
     "data": {
      "image/png": "[encoded data removed]",
      "text/plain": [
       "<matplotlib.figure.Figure at 0x11570d518>"
      ]
     },
     "metadata": {},
     "output_type": "display_data"
    }
   ],
   "source": [
    "sample = 100000\n",
    "arr4 = np.random.normal(0,.1,sample)\n",
    "arr5 = np.random.normal(.1,.1,sample)\n",
    "\n",
    "bins = np.linspace(-.5,.5,100)\n",
    "\n",
    "plt.hist(arr4,bins,alpha=.2,label='mean0')\n",
    "plt.hist(arr5,bins,alpha=.2,label='mean1')\n",
    "plt.legend(loc='upper right')\n",
    "plt.show()"
   ]
  },
  {
   "cell_type": "markdown",
   "metadata": {},
   "source": [
    "B. What happens when you change the standard deviation? \n",
    "\n",
    "When increase std, the distrubtion spead widers, vice versa."
   ]
  },
  {
   "cell_type": "code",
   "execution_count": 32,
   "metadata": {},
   "outputs": [
    {
     "data": {
      "image/png": "[encoded data removed]",
      "text/plain": [
       "<matplotlib.figure.Figure at 0x11570def0>"
      ]
     },
     "metadata": {},
     "output_type": "display_data"
    }
   ],
   "source": [
    "sample = 100000\n",
    "arr6 = np.random.normal(0,.1,sample)\n",
    "arr7 = np.random.normal(0,.2,sample)\n",
    "\n",
    "bins = np.linspace(-.5,.5,100)\n",
    "\n",
    "plt.hist(arr6,bins,alpha=.2,label='std.1')\n",
    "plt.hist(arr7,bins,alpha=.2,label='std.2')\n",
    "plt.legend(loc='upper right')\n",
    "plt.show()"
   ]
  }
 ],
 "metadata": {
  "kernelspec": {
   "display_name": "Python 3",
   "language": "python",
   "name": "python3"
  },
  "language_info": {
   "codemirror_mode": {
    "name": "ipython",
    "version": 3
   },
   "file_extension": ".py",
   "mimetype": "text/x-python",
   "name": "python",
   "nbconvert_exporter": "python",
   "pygments_lexer": "ipython3",
   "version": "3.6.3"
  }
 },
 "nbformat": 4,
 "nbformat_minor": 2
}
