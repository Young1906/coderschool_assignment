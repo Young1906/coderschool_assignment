{
 "cells": [
  {
   "cell_type": "markdown",
   "metadata": {},
   "source": [
    "# Lesson 1 - Problem Set\n",
    "\n",
    "Please solve the questions in this notebook and submit the completed notebook. The timestamp of submission will be considered the timestamp of completion.\n",
    "\n",
    "1. What is the Central Limit Theorem? $_{5\\text{pts}}$\n",
    "\n",
    "2. Suppose I sell Banh Mi, and the probability that I will receive a customer in any given hour is modeled by the data in `customer_pmf`. Write a python function which shows how the CLT arises from the provided distribution.\n",
    "\n",
    "3. Let's assume that `voter_age_country` contains age data for the entire country of Thailand, and `voter_age_province` contains age data for the province of Amnat Charoen, which is the second most populous province in Thailand. You work for a political firm which is trying to determine voter turn out in Amnat Charoen. In order to more effectively target your advertising dollars, you decide to see analyze the average age of voters in Shanta. Thus you decide to test whether the average age of voters in Amnat Charoen differs from the average age of voters in the entire population of Thailand.\n",
    "> Using the Hypothesis Testing methodology outlined during class, determine whether the average age of voters in Amnat Charoen differs from the entire population. $_{20\\text{pts}}$"
   ]
  },
  {
   "cell_type": "code",
   "execution_count": 39,
   "metadata": {},
   "outputs": [],
   "source": [
    "import numpy as np\n",
    "\n",
    "#### Problem 2 data ###\n",
    "customer_pmf = np.random.poisson(12, size=50000)\n",
    "\n",
    "#### Problem 3 data ####\n",
    "voter_age_country = np.concatenate([np.random.poisson(35,size=15000),np.random.poisson(10,size=10000)])\n",
    "voter_age_province = np.concatenate([np.random.poisson(30,size=30),np.random.poisson(10,size=20)])"
   ]
  },
  {
   "cell_type": "markdown",
   "metadata": {},
   "source": [
    "### 1.What is the Central Limit Theorem?\n",
    "---\n",
    ">The sampling distribution tends to look normal"
   ]
  },
  {
   "cell_type": "markdown",
   "metadata": {},
   "source": [
    "### 2.Write a python function which shows how the CLT arises from the provided distribution.\n",
    "---"
   ]
  },
  {
   "cell_type": "code",
   "execution_count": 40,
   "metadata": {},
   "outputs": [
    {
     "data": {
      "text/plain": [
       "<Figure size 640x480 with 1 Axes>"
      ]
     },
     "metadata": {},
     "output_type": "display_data"
    }
   ],
   "source": [
    "import matplotlib.pyplot as plt\n",
    "\n",
    "def clt(ar,n):\n",
    "    rs = np.array([])\n",
    "    for i in range(n): \n",
    "        sample = np.random.choice(ar,size=10)\n",
    "        rs=np.append(rs,np.mean(sample))\n",
    "    return(rs)\n",
    "\n",
    "plt.hist(\n",
    "    clt(customer_pmf,10000),\n",
    "    density=True,\n",
    "    bins=np.arange(8,15,.2)\n",
    ")\n",
    "plt.show()"
   ]
  },
  {
   "cell_type": "markdown",
   "metadata": {},
   "source": [
    "### 3. Determine whether the average age of voters in Amnat Charoen differs from the entire population\n",
    "---"
   ]
  },
  {
   "cell_type": "markdown",
   "metadata": {},
   "source": [
    "** Hypothesises **\n",
    "\n",
    "* H0 : Average age of voter in Amnat Charoen is not different from entire population average age.\n",
    "* H1 : Average age of voter in Amnat Charoen is different from entire population average age.\n",
    "* Significant level a = 5%\n",
    "Assume H0, we'll calculate how likely we get a sample at least extreme as ```voter_age_province``` sample.\n",
    "\n",
    "The distribution of the sample means is normally distributed with :\n",
    "* the mean equal to population mean: mp -> approximately calcualated from ```voter_age_county``` data \n",
    "\n",
    "**mp = 25.04044**\n",
    "\n",
    "* standard deviation of the sampling distribution : sm -> approximately calcualated from ```voter_age_province``` sample standard deviation / sample_size**0.5 (because sample size > 30) \n",
    "\n",
    "**sm = 1.4576**\n",
    "\n",
    "We'll determine how likely we get a sample at least extreme as ```voter_age_provice``` by calculating how many *standard deivation* (```sm```) away the sample mean (```ms```) from the population mean ```mp``` (z-score)\n",
    "\n",
    "**ms = 21.18**\n",
    "\n",
    "**z = -2.65**"
   ]
  },
  {
   "cell_type": "code",
   "execution_count": 41,
   "metadata": {},
   "outputs": [
    {
     "name": "stdout",
     "output_type": "stream",
     "text": [
      "25.003\n"
     ]
    }
   ],
   "source": [
    "mp = np.mean(voter_age_country)\n",
    "print(mp)"
   ]
  },
  {
   "cell_type": "code",
   "execution_count": 42,
   "metadata": {},
   "outputs": [
    {
     "name": "stdout",
     "output_type": "stream",
     "text": [
      "1.4318128369308607\n"
     ]
    }
   ],
   "source": [
    "sm = np.std(voter_age_province)/len(voter_age_province)**.5\n",
    "print(sm)"
   ]
  },
  {
   "cell_type": "code",
   "execution_count": 43,
   "metadata": {},
   "outputs": [
    {
     "name": "stdout",
     "output_type": "stream",
     "text": [
      "21.66\n"
     ]
    }
   ],
   "source": [
    "ms = np.mean(voter_age_province)\n",
    "print(ms)"
   ]
  },
  {
   "cell_type": "code",
   "execution_count": 44,
   "metadata": {},
   "outputs": [],
   "source": [
    "z = (ms - mp)/sm"
   ]
  },
  {
   "cell_type": "code",
   "execution_count": 45,
   "metadata": {},
   "outputs": [
    {
     "name": "stdout",
     "output_type": "stream",
     "text": [
      "-2.3348023664642046\n"
     ]
    }
   ],
   "source": [
    "print(z)"
   ]
  },
  {
   "cell_type": "markdown",
   "metadata": {},
   "source": [
    "From z-score table, we calculated **p-value = 0.0040** \n",
    ">-> With significant level of 5%, we can reject null hypothesis and conclude that voter age in Amnat Charoen average age differ from population average age\n",
    "\n",
    "![z score](https://s3-ap-southeast-1.amazonaws.com/subscriber.images/maths/2017/09/27091456/word-image.png)"
   ]
  }
 ],
 "metadata": {
  "kernelspec": {
   "display_name": "Python 3",
   "language": "python",
   "name": "python3"
  },
  "language_info": {
   "codemirror_mode": {
    "name": "ipython",
    "version": 3
   },
   "file_extension": ".py",
   "mimetype": "text/x-python",
   "name": "python",
   "nbconvert_exporter": "python",
   "pygments_lexer": "ipython3",
   "version": "3.6.5"
  }
 },
 "nbformat": 4,
 "nbformat_minor": 2
}
